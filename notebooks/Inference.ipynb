{
 "cells": [
  {
   "cell_type": "code",
   "execution_count": null,
   "id": "e3fce9b6",
   "metadata": {},
   "outputs": [],
   "source": [
    "import pathlib\n",
    "import tempfile\n",
    "\n",
    "from io import BytesIO\n",
    "from PIL import Image\n",
    "from sheetsage.utils import _LILYPOND_ENGRAVE_TEMPLATE, run_cmd_sync\n",
    "\n",
    "\n",
    "\n",
    "\n",
    "sheet = engrave(lead_sheet.as_lily(), out_format='png')\n",
    "_dImage(sheet)"
   ]
  },
  {
   "cell_type": "code",
   "execution_count": null,
   "id": "f05f5756",
   "metadata": {},
   "outputs": [],
   "source": [
    "import logging\n",
    "\n",
    "from IPython.display import display, Image as _dImage\n",
    "\n",
    "from sheetsage.infer import sheetsage\n",
    "from sheetsage.utils import engrave\n",
    "\n",
    "logging.basicConfig(level=logging.INFO)\n",
    "lead_sheet, segment_beats, segment_beats_times = sheetsage(\n",
    "    'https://www.youtube.com/watch?v=fHI8X4OXluQ',\n",
    "    segment_start_hint=17)#,\n",
    "    #segment_end_hint=90)\n",
    "    #beats_per_minute_hint=83)\n",
    "\n",
    "lead_sheet_png = engrave(lead_sheet.as_lily())\n",
    "display(_dImage(lead_sheet_png))"
   ]
  },
  {
   "cell_type": "code",
   "execution_count": null,
   "id": "35c41307",
   "metadata": {},
   "outputs": [],
   "source": [
    "print(lead_sheet.as_lily())"
   ]
  },
  {
   "cell_type": "code",
   "execution_count": null,
   "id": "393ed350",
   "metadata": {},
   "outputs": [],
   "source": [
    "print(lead_sheet)"
   ]
  },
  {
   "cell_type": "code",
   "execution_count": null,
   "id": "fe1947a9",
   "metadata": {},
   "outputs": [],
   "source": [
    "print(_PROBE)"
   ]
  },
  {
   "cell_type": "code",
   "execution_count": null,
   "id": "5183a085",
   "metadata": {},
   "outputs": [],
   "source": [
    "print(ref_tts)"
   ]
  },
  {
   "cell_type": "code",
   "execution_count": null,
   "id": "1f8ade5d",
   "metadata": {},
   "outputs": [],
   "source": [
    "import pathlib\n",
    "import pickle\n",
    "\n",
    "from sheetsage import CACHE_DIR\n",
    "\n",
    "with open(pathlib.Path(CACHE_DIR, 'test/end2end/fishin_11_handcrafted', 'audio.pkl'), 'rb') as f:\n",
    "    sr, audio = pickle.load(f)"
   ]
  },
  {
   "cell_type": "code",
   "execution_count": null,
   "id": "e50bc351",
   "metadata": {},
   "outputs": [],
   "source": [
    "from scipy.io.wavfile import write as wavwrite\n",
    "\n",
    "wavwrite('/tmp/ugh.wav', sr, audio)"
   ]
  },
  {
   "cell_type": "code",
   "execution_count": null,
   "id": "6b4ffa86",
   "metadata": {
    "scrolled": true
   },
   "outputs": [],
   "source": [
    "import numpy as np\n",
    "\n",
    "with open(pathlib.Path(CACHE_DIR, 'test/end2end/fishin_11_handcrafted', 'beattrack.pkl'), 'rb') as f:\n",
    "    beats_per_bar, offset, duration, tertiary_times = pickle.load(f)\n",
    "\n",
    "ref_tts = np.array(tertiary_times)\n",
    "print(ref_tts[0])"
   ]
  },
  {
   "cell_type": "code",
   "execution_count": null,
   "id": "3209f095",
   "metadata": {},
   "outputs": [],
   "source": [
    "extractor = _init_extractor(InputFeats.HANDCRAFTED)\n",
    "offset = ref_tts[0]\n",
    "fr, feats = extractor('/tmp/ugh.wav', offset=offset, duration=ref_tts[-1] - offset)\n",
    "beat_resampled = []\n",
    "chunk_tertiaries = ref_tts\n",
    "for i in range(chunk_tertiaries.shape[0] - 1):\n",
    "    s = int((chunk_tertiaries[i] - offset) * fr)\n",
    "    e = int((chunk_tertiaries[i + 1] - offset) * fr)\n",
    "    assert e > s\n",
    "    beat_resampled.append(np.mean(feats[s:e], axis=0, keepdims=True))\n",
    "beat_resampled = np.concatenate(beat_resampled, axis=0)\n",
    "print(beat_resampled.shape)"
   ]
  },
  {
   "cell_type": "code",
   "execution_count": null,
   "id": "7ee5c9c1",
   "metadata": {},
   "outputs": [],
   "source": [
    "import pathlib\n",
    "import pickle\n",
    "from sheetsage import CACHE_DIR\n",
    "\n",
    "with open(pathlib.Path(CACHE_DIR, 'test/end2end/fishin_11_handcrafted', 'feats.pkl'), 'rb') as f:\n",
    "    ref_feats = pickle.load(f)\n",
    "#my_feats = beat_resampled\n",
    "my_feats = _PROBE\n",
    "\n",
    "for i in range(my_feats.shape[0]):\n",
    "    print(np.abs(ref_feats[i] - my_feats[i]).mean())"
   ]
  },
  {
   "cell_type": "code",
   "execution_count": null,
   "id": "4a00adbc",
   "metadata": {},
   "outputs": [],
   "source": []
  },
  {
   "cell_type": "code",
   "execution_count": null,
   "id": "b063a6f8",
   "metadata": {},
   "outputs": [],
   "source": [
    "my = _PROBE\n",
    "#print(ref[:my.shape[0]])\n",
    "#print(my)\n",
    "for i in range(my.shape[0]):\n",
    "    if ref[i] != my[i]:\n",
    "        print(i, ref[i], my[i])"
   ]
  },
  {
   "cell_type": "code",
   "execution_count": null,
   "id": "6a99b4e7",
   "metadata": {},
   "outputs": [],
   "source": [
    "from sheetsage.utils import decode_audio\n",
    "\n",
    "sr, audio = decode_audio(retrieve_asset('TEST_FISHIN'))\n",
    "print(sr, audio.shape, audio.dtype, audio.min(), audio.max())"
   ]
  },
  {
   "cell_type": "code",
   "execution_count": null,
   "id": "1011f6da",
   "metadata": {},
   "outputs": [],
   "source": [
    "from sheetsage.utils import decode_audio, retrieve_audio_bytes\n",
    "\n",
    "audio_bytes = retrieve_audio_bytes('https://www.youtube.com/watch?v=fHI8X4OXluQ')\n",
    "print(len(audio_bytes))"
   ]
  }
 ],
 "metadata": {
  "kernelspec": {
   "display_name": "Python 3",
   "language": "python",
   "name": "python3"
  },
  "language_info": {
   "codemirror_mode": {
    "name": "ipython",
    "version": 3
   },
   "file_extension": ".py",
   "mimetype": "text/x-python",
   "name": "python",
   "nbconvert_exporter": "python",
   "pygments_lexer": "ipython3",
   "version": "3.6.9"
  }
 },
 "nbformat": 4,
 "nbformat_minor": 5
}
