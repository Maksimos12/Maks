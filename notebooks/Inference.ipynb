{
 "cells": [
  {
   "cell_type": "code",
   "execution_count": 4,
   "id": "f05f5756",
   "metadata": {},
   "outputs": [
    {
     "ename": "Exception",
     "evalue": "Failed to retrieve from http://www.google.com:\nWARNING: [generic] Falling back on generic information extractor.\nERROR: Unsupported URL: http://www.google.com",
     "output_type": "error",
     "traceback": [
      "\u001b[0;31m---------------------------------------------------------------------------\u001b[0m",
      "\u001b[0;31mException\u001b[0m                                 Traceback (most recent call last)",
      "\u001b[0;32m<ipython-input-4-82250b0d2680>\u001b[0m in \u001b[0;36m<module>\u001b[0;34m\u001b[0m\n\u001b[1;32m      9\u001b[0m     \u001b[0msegment_start_hint\u001b[0m\u001b[0;34m=\u001b[0m\u001b[0;36m11\u001b[0m\u001b[0;34m,\u001b[0m\u001b[0;34m\u001b[0m\u001b[0;34m\u001b[0m\u001b[0m\n\u001b[1;32m     10\u001b[0m     \u001b[0msegment_end_hint\u001b[0m\u001b[0;34m=\u001b[0m\u001b[0;36m11\u001b[0m \u001b[0;34m+\u001b[0m \u001b[0;36m23.75\u001b[0m\u001b[0;34m,\u001b[0m\u001b[0;34m\u001b[0m\u001b[0;34m\u001b[0m\u001b[0m\n\u001b[0;32m---> 11\u001b[0;31m     measures_per_chunk=17)\n\u001b[0m\u001b[1;32m     12\u001b[0m \u001b[0;34m\u001b[0m\u001b[0m\n\u001b[1;32m     13\u001b[0m \u001b[0mlead_sheet_png\u001b[0m \u001b[0;34m=\u001b[0m \u001b[0mengrave\u001b[0m\u001b[0;34m(\u001b[0m\u001b[0mlead_sheet\u001b[0m\u001b[0;34m.\u001b[0m\u001b[0mas_lily\u001b[0m\u001b[0;34m(\u001b[0m\u001b[0;34m)\u001b[0m\u001b[0;34m)\u001b[0m\u001b[0;34m\u001b[0m\u001b[0;34m\u001b[0m\u001b[0m\n",
      "\u001b[0;32m/sheetsage/sheetsage/infer.py\u001b[0m in \u001b[0;36msheetsage\u001b[0;34m(audio_path_bytes_or_url, segment_start_hint, segment_end_hint, use_jukebox, measures_per_chunk, segment_hints_are_downbeats, beats_per_measure_hint, detect_melody, detect_harmony, beat_detection_padding)\u001b[0m\n\u001b[1;32m    218\u001b[0m         \u001b[0;32mif\u001b[0m \u001b[0mvalidators\u001b[0m\u001b[0;34m.\u001b[0m\u001b[0murl\u001b[0m\u001b[0;34m(\u001b[0m\u001b[0maudio_path_bytes_or_url\u001b[0m\u001b[0;34m)\u001b[0m\u001b[0;34m:\u001b[0m\u001b[0;34m\u001b[0m\u001b[0;34m\u001b[0m\u001b[0m\n\u001b[1;32m    219\u001b[0m             \u001b[0mlogging\u001b[0m\u001b[0;34m.\u001b[0m\u001b[0minfo\u001b[0m\u001b[0;34m(\u001b[0m\u001b[0;34mf\"Retrieving audio from {audio_path_bytes_or_url}\"\u001b[0m\u001b[0;34m)\u001b[0m\u001b[0;34m\u001b[0m\u001b[0;34m\u001b[0m\u001b[0m\n\u001b[0;32m--> 220\u001b[0;31m             \u001b[0maudio_path_or_bytes\u001b[0m \u001b[0;34m=\u001b[0m \u001b[0mretrieve_audio_bytes\u001b[0m\u001b[0;34m(\u001b[0m\u001b[0maudio_path_bytes_or_url\u001b[0m\u001b[0;34m)\u001b[0m\u001b[0;34m\u001b[0m\u001b[0;34m\u001b[0m\u001b[0m\n\u001b[0m\u001b[1;32m    221\u001b[0m         \u001b[0;32melse\u001b[0m\u001b[0;34m:\u001b[0m\u001b[0;34m\u001b[0m\u001b[0;34m\u001b[0m\u001b[0m\n\u001b[1;32m    222\u001b[0m             \u001b[0mlogging\u001b[0m\u001b[0;34m.\u001b[0m\u001b[0minfo\u001b[0m\u001b[0;34m(\u001b[0m\u001b[0;34mf\"Loading audio from {audio_path_bytes_or_url}\"\u001b[0m\u001b[0;34m)\u001b[0m\u001b[0;34m\u001b[0m\u001b[0;34m\u001b[0m\u001b[0m\n",
      "\u001b[0;32m/sheetsage/sheetsage/utils.py\u001b[0m in \u001b[0;36mretrieve_audio_bytes\u001b[0;34m(url, return_name, timeout)\u001b[0m\n\u001b[1;32m    164\u001b[0m         )\n\u001b[1;32m    165\u001b[0m         \u001b[0;32mif\u001b[0m \u001b[0mstatus\u001b[0m \u001b[0;34m!=\u001b[0m \u001b[0;36m0\u001b[0m\u001b[0;34m:\u001b[0m\u001b[0;34m\u001b[0m\u001b[0;34m\u001b[0m\u001b[0m\n\u001b[0;32m--> 166\u001b[0;31m             \u001b[0;32mraise\u001b[0m \u001b[0mException\u001b[0m\u001b[0;34m(\u001b[0m\u001b[0;34mf\"Failed to retrieve from {url}:\\n{stderr}\"\u001b[0m\u001b[0;34m)\u001b[0m\u001b[0;34m\u001b[0m\u001b[0;34m\u001b[0m\u001b[0m\n\u001b[0m\u001b[1;32m    167\u001b[0m         \u001b[0mpaths\u001b[0m \u001b[0;34m=\u001b[0m \u001b[0mlist\u001b[0m\u001b[0;34m(\u001b[0m\u001b[0mpathlib\u001b[0m\u001b[0;34m.\u001b[0m\u001b[0mPath\u001b[0m\u001b[0;34m(\u001b[0m\u001b[0md\u001b[0m\u001b[0;34m)\u001b[0m\u001b[0;34m.\u001b[0m\u001b[0miterdir\u001b[0m\u001b[0;34m(\u001b[0m\u001b[0;34m)\u001b[0m\u001b[0;34m)\u001b[0m\u001b[0;34m\u001b[0m\u001b[0;34m\u001b[0m\u001b[0m\n\u001b[1;32m    168\u001b[0m         \u001b[0;32massert\u001b[0m \u001b[0mlen\u001b[0m\u001b[0;34m(\u001b[0m\u001b[0mpaths\u001b[0m\u001b[0;34m)\u001b[0m \u001b[0;34m==\u001b[0m \u001b[0;36m1\u001b[0m\u001b[0;34m\u001b[0m\u001b[0;34m\u001b[0m\u001b[0m\n",
      "\u001b[0;31mException\u001b[0m: Failed to retrieve from http://www.google.com:\nWARNING: [generic] Falling back on generic information extractor.\nERROR: Unsupported URL: http://www.google.com"
     ]
    }
   ],
   "source": [
    "from IPython.display import display, Image\n",
    "\n",
    "from sheetsage.assets import retrieve_asset\n",
    "from sheetsage.infer import sheetsage\n",
    "from sheetsage.utils import engrave\n",
    "\n",
    "lead_sheet = sheetsage(\n",
    "    retrieve_asset('TEST_FISHIN'),\n",
    "    segment_start_hint=11,\n",
    "    segment_end_hint=11 + 23.75,\n",
    "    measures_per_chunk=17)\n",
    "\n",
    "lead_sheet_png = engrave(lead_sheet.as_lily())\n",
    "display(Image(lead_sheet_png))"
   ]
  },
  {
   "cell_type": "code",
   "execution_count": null,
   "id": "35c41307",
   "metadata": {},
   "outputs": [],
   "source": [
    "print(lead_sheet.as_lily())"
   ]
  },
  {
   "cell_type": "code",
   "execution_count": null,
   "id": "393ed350",
   "metadata": {},
   "outputs": [],
   "source": [
    "print(lead_sheet)"
   ]
  },
  {
   "cell_type": "code",
   "execution_count": null,
   "id": "fe1947a9",
   "metadata": {},
   "outputs": [],
   "source": [
    "print(_PROBE)"
   ]
  },
  {
   "cell_type": "code",
   "execution_count": null,
   "id": "5183a085",
   "metadata": {},
   "outputs": [],
   "source": [
    "print(ref_tts)"
   ]
  },
  {
   "cell_type": "code",
   "execution_count": null,
   "id": "1f8ade5d",
   "metadata": {},
   "outputs": [],
   "source": [
    "import pathlib\n",
    "import pickle\n",
    "\n",
    "from sheetsage import CACHE_DIR\n",
    "\n",
    "with open(pathlib.Path(CACHE_DIR, 'test/end2end/fishin_11_handcrafted', 'audio.pkl'), 'rb') as f:\n",
    "    sr, audio = pickle.load(f)"
   ]
  },
  {
   "cell_type": "code",
   "execution_count": null,
   "id": "e50bc351",
   "metadata": {},
   "outputs": [],
   "source": [
    "from scipy.io.wavfile import write as wavwrite\n",
    "\n",
    "wavwrite('/tmp/ugh.wav', sr, audio)"
   ]
  },
  {
   "cell_type": "code",
   "execution_count": null,
   "id": "6b4ffa86",
   "metadata": {
    "scrolled": true
   },
   "outputs": [],
   "source": [
    "import numpy as np\n",
    "\n",
    "with open(pathlib.Path(CACHE_DIR, 'test/end2end/fishin_11_handcrafted', 'beattrack.pkl'), 'rb') as f:\n",
    "    beats_per_bar, offset, duration, tertiary_times = pickle.load(f)\n",
    "\n",
    "ref_tts = np.array(tertiary_times)\n",
    "print(ref_tts[0])"
   ]
  },
  {
   "cell_type": "code",
   "execution_count": null,
   "id": "3209f095",
   "metadata": {},
   "outputs": [],
   "source": [
    "extractor = _init_extractor(InputFeats.HANDCRAFTED)\n",
    "offset = ref_tts[0]\n",
    "fr, feats = extractor('/tmp/ugh.wav', offset=offset, duration=ref_tts[-1] - offset)\n",
    "beat_resampled = []\n",
    "chunk_tertiaries = ref_tts\n",
    "for i in range(chunk_tertiaries.shape[0] - 1):\n",
    "    s = int((chunk_tertiaries[i] - offset) * fr)\n",
    "    e = int((chunk_tertiaries[i + 1] - offset) * fr)\n",
    "    assert e > s\n",
    "    beat_resampled.append(np.mean(feats[s:e], axis=0, keepdims=True))\n",
    "beat_resampled = np.concatenate(beat_resampled, axis=0)\n",
    "print(beat_resampled.shape)"
   ]
  },
  {
   "cell_type": "code",
   "execution_count": null,
   "id": "7ee5c9c1",
   "metadata": {},
   "outputs": [],
   "source": [
    "import pathlib\n",
    "import pickle\n",
    "from sheetsage import CACHE_DIR\n",
    "\n",
    "with open(pathlib.Path(CACHE_DIR, 'test/end2end/fishin_11_handcrafted', 'feats.pkl'), 'rb') as f:\n",
    "    ref_feats = pickle.load(f)\n",
    "#my_feats = beat_resampled\n",
    "my_feats = _PROBE\n",
    "\n",
    "for i in range(my_feats.shape[0]):\n",
    "    print(np.abs(ref_feats[i] - my_feats[i]).mean())"
   ]
  },
  {
   "cell_type": "code",
   "execution_count": null,
   "id": "4a00adbc",
   "metadata": {},
   "outputs": [],
   "source": []
  },
  {
   "cell_type": "code",
   "execution_count": null,
   "id": "b063a6f8",
   "metadata": {},
   "outputs": [],
   "source": [
    "my = _PROBE\n",
    "#print(ref[:my.shape[0]])\n",
    "#print(my)\n",
    "for i in range(my.shape[0]):\n",
    "    if ref[i] != my[i]:\n",
    "        print(i, ref[i], my[i])"
   ]
  },
  {
   "cell_type": "code",
   "execution_count": null,
   "id": "6a99b4e7",
   "metadata": {},
   "outputs": [],
   "source": [
    "from sheetsage.utils import decode_audio\n",
    "\n",
    "sr, audio = decode_audio(retrieve_asset('TEST_FISHIN'))\n",
    "print(sr, audio.shape, audio.dtype, audio.min(), audio.max())"
   ]
  },
  {
   "cell_type": "code",
   "execution_count": null,
   "id": "1011f6da",
   "metadata": {},
   "outputs": [],
   "source": [
    "from sheetsage.utils import decode_audio, retrieve_audio_bytes\n",
    "\n",
    "audio_bytes = retrieve_audio_bytes('https://www.youtube.com/watch?v=fHI8X4OXluQ')\n",
    "print(len(audio_bytes))"
   ]
  }
 ],
 "metadata": {
  "kernelspec": {
   "display_name": "Python 3",
   "language": "python",
   "name": "python3"
  },
  "language_info": {
   "codemirror_mode": {
    "name": "ipython",
    "version": 3
   },
   "file_extension": ".py",
   "mimetype": "text/x-python",
   "name": "python",
   "nbconvert_exporter": "python",
   "pygments_lexer": "ipython3",
   "version": "3.6.9"
  }
 },
 "nbformat": 4,
 "nbformat_minor": 5
}
